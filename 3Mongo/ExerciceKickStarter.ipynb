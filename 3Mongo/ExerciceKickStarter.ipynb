{
 "cells": [
  {
   "cell_type": "markdown",
   "metadata": {},
   "source": [
    "#  Consignes\n",
    "\n",
    "## Description\n",
    "\n",
    "Ouvrir le fichier ks-projects-201801.csv, il recense environ 100 000 projets KickStarter. Intégrer les données directement avec L'API Python dans une base de données Mongo. \n",
    "\n",
    "Il conviendra de bien spécifier manuellement l'ID du document. Pensez aussi à bien formatter le type des données pour profiter des méthodes implémentées par Mongo. L'ensemble de données n'est pas forcément nécessaire, c'est à vous de créer votre modèle de données.\n",
    "\n",
    "## Questions\n",
    "\n",
    "- 1) Récupérer les 5 projets ayant reçu le plus de promesse de dons.\n",
    "- 2) Compter le nombre de projets ayant atteint leur but.\n",
    "- 3) Compter le nombre de projets pour chaque catégorie.\n",
    "- 4) Compter le nombre de projets français ayant été instanciés avant 2016.\n",
    "- 5) Récupérer les projets américains ayant demandé plus de 200 000 dollars.\n",
    "- 6) Compter le nombre de projet ayant \"Sport\" dans leur nom"
   ]
  },
  {
   "cell_type": "code",
   "execution_count": 51,
   "metadata": {},
   "outputs": [],
   "source": [
    "import pandas as pd\n",
    "import pymongo"
   ]
  },
  {
   "cell_type": "code",
   "execution_count": 52,
   "metadata": {},
   "outputs": [],
   "source": [
    "client = pymongo.MongoClient('mongo')\n",
    "database = client['exercices']\n",
    "collection = database['kickstarter']"
   ]
  },
  {
   "cell_type": "code",
   "execution_count": 53,
   "metadata": {},
   "outputs": [
    {
     "name": "stderr",
     "output_type": "stream",
     "text": [
      "/root/.local/share/virtualenvs/code-AFz48Hjb/lib/python3.8/site-packages/IPython/core/interactiveshell.py:3146: DtypeWarning: Columns (6,8,10,12) have mixed types.Specify dtype option on import or set low_memory=False.\n",
      "  has_raised = await self.run_ast_nodes(code_ast.body, cell_name,\n"
     ]
    },
    {
     "data": {
      "text/html": [
       "<div>\n",
       "<style scoped>\n",
       "    .dataframe tbody tr th:only-of-type {\n",
       "        vertical-align: middle;\n",
       "    }\n",
       "\n",
       "    .dataframe tbody tr th {\n",
       "        vertical-align: top;\n",
       "    }\n",
       "\n",
       "    .dataframe thead th {\n",
       "        text-align: right;\n",
       "    }\n",
       "</style>\n",
       "<table border=\"1\" class=\"dataframe\">\n",
       "  <thead>\n",
       "    <tr style=\"text-align: right;\">\n",
       "      <th></th>\n",
       "      <th>ID</th>\n",
       "      <th>name</th>\n",
       "      <th>category</th>\n",
       "      <th>main_category</th>\n",
       "      <th>currency</th>\n",
       "      <th>deadline</th>\n",
       "      <th>goal</th>\n",
       "      <th>launched</th>\n",
       "      <th>pledged</th>\n",
       "      <th>state</th>\n",
       "      <th>backers</th>\n",
       "      <th>country</th>\n",
       "      <th>usd pledged</th>\n",
       "      <th>usd_pledged_real</th>\n",
       "    </tr>\n",
       "  </thead>\n",
       "  <tbody>\n",
       "    <tr>\n",
       "      <th>0</th>\n",
       "      <td>872782264</td>\n",
       "      <td>Scott Cooper's Solo CD \"A Leg Trick\" (Canceled)</td>\n",
       "      <td>Rock</td>\n",
       "      <td>Music</td>\n",
       "      <td>USD</td>\n",
       "      <td>2011-09-16</td>\n",
       "      <td>2000</td>\n",
       "      <td>2011-08-17 06:31:31</td>\n",
       "      <td>1145</td>\n",
       "      <td>canceled</td>\n",
       "      <td>24</td>\n",
       "      <td>US</td>\n",
       "      <td>1145</td>\n",
       "      <td>1145.000000</td>\n",
       "    </tr>\n",
       "    <tr>\n",
       "      <th>1</th>\n",
       "      <td>1326492673</td>\n",
       "      <td>Ohceola jewelry</td>\n",
       "      <td>Fashion</td>\n",
       "      <td>Fashion</td>\n",
       "      <td>USD</td>\n",
       "      <td>2012-08-22</td>\n",
       "      <td>18000</td>\n",
       "      <td>2012-07-23 20:46:48</td>\n",
       "      <td>1851</td>\n",
       "      <td>failed</td>\n",
       "      <td>28</td>\n",
       "      <td>US</td>\n",
       "      <td>1851</td>\n",
       "      <td>1851.000000</td>\n",
       "    </tr>\n",
       "    <tr>\n",
       "      <th>2</th>\n",
       "      <td>1688410639</td>\n",
       "      <td>Sluff Off &amp; Harald: Two latest EGGs are Classi...</td>\n",
       "      <td>Tabletop Games</td>\n",
       "      <td>Games</td>\n",
       "      <td>USD</td>\n",
       "      <td>2016-07-19</td>\n",
       "      <td>2000</td>\n",
       "      <td>2016-07-01 21:55:54</td>\n",
       "      <td>7534</td>\n",
       "      <td>successful</td>\n",
       "      <td>254</td>\n",
       "      <td>US</td>\n",
       "      <td>3796</td>\n",
       "      <td>7534.000000</td>\n",
       "    </tr>\n",
       "    <tr>\n",
       "      <th>3</th>\n",
       "      <td>156812982</td>\n",
       "      <td>SketchPlanner: Create and Plan- all in one bea...</td>\n",
       "      <td>Art Books</td>\n",
       "      <td>Publishing</td>\n",
       "      <td>USD</td>\n",
       "      <td>2017-09-27</td>\n",
       "      <td>13000</td>\n",
       "      <td>2017-08-28 15:47:02</td>\n",
       "      <td>16298</td>\n",
       "      <td>successful</td>\n",
       "      <td>367</td>\n",
       "      <td>US</td>\n",
       "      <td>2670</td>\n",
       "      <td>16298.000000</td>\n",
       "    </tr>\n",
       "    <tr>\n",
       "      <th>4</th>\n",
       "      <td>1835968190</td>\n",
       "      <td>Proven sales with custom motorcycle accessories</td>\n",
       "      <td>Sculpture</td>\n",
       "      <td>Art</td>\n",
       "      <td>CAD</td>\n",
       "      <td>2016-02-24</td>\n",
       "      <td>5000</td>\n",
       "      <td>2016-01-25 17:37:10</td>\n",
       "      <td>1</td>\n",
       "      <td>failed</td>\n",
       "      <td>1</td>\n",
       "      <td>CA</td>\n",
       "      <td>0.708148</td>\n",
       "      <td>0.738225</td>\n",
       "    </tr>\n",
       "  </tbody>\n",
       "</table>\n",
       "</div>"
      ],
      "text/plain": [
       "           ID                                               name  \\\n",
       "0   872782264    Scott Cooper's Solo CD \"A Leg Trick\" (Canceled)   \n",
       "1  1326492673                                    Ohceola jewelry   \n",
       "2  1688410639  Sluff Off & Harald: Two latest EGGs are Classi...   \n",
       "3   156812982  SketchPlanner: Create and Plan- all in one bea...   \n",
       "4  1835968190    Proven sales with custom motorcycle accessories   \n",
       "\n",
       "         category main_category currency    deadline   goal  \\\n",
       "0            Rock         Music      USD  2011-09-16   2000   \n",
       "1         Fashion       Fashion      USD  2012-08-22  18000   \n",
       "2  Tabletop Games         Games      USD  2016-07-19   2000   \n",
       "3       Art Books    Publishing      USD  2017-09-27  13000   \n",
       "4       Sculpture           Art      CAD  2016-02-24   5000   \n",
       "\n",
       "              launched pledged       state backers country usd pledged  \\\n",
       "0  2011-08-17 06:31:31    1145    canceled      24      US        1145   \n",
       "1  2012-07-23 20:46:48    1851      failed      28      US        1851   \n",
       "2  2016-07-01 21:55:54    7534  successful     254      US        3796   \n",
       "3  2017-08-28 15:47:02   16298  successful     367      US        2670   \n",
       "4  2016-01-25 17:37:10       1      failed       1      CA    0.708148   \n",
       "\n",
       "   usd_pledged_real  \n",
       "0       1145.000000  \n",
       "1       1851.000000  \n",
       "2       7534.000000  \n",
       "3      16298.000000  \n",
       "4          0.738225  "
      ]
     },
     "execution_count": 53,
     "metadata": {},
     "output_type": "execute_result"
    }
   ],
   "source": [
    "df_ks = pd.read_csv(\"./data/ks-projects-201801-sample.csv\")\n",
    "df_ks.head()"
   ]
  },
  {
   "cell_type": "markdown",
   "metadata": {},
   "source": [
    "Ce warning intervient lorsque pandas n'arrive pas à inférer le type de données. Il est sympa il précise les colones 6,8,10,12. "
   ]
  },
  {
   "cell_type": "code",
   "execution_count": 54,
   "metadata": {},
   "outputs": [
    {
     "data": {
      "text/plain": [
       "Index(['goal', 'pledged', 'backers', 'usd pledged'], dtype='object')"
      ]
     },
     "execution_count": 54,
     "metadata": {},
     "output_type": "execute_result"
    }
   ],
   "source": [
    "df_ks.columns[[6,8,10,12]]"
   ]
  },
  {
   "cell_type": "markdown",
   "metadata": {},
   "source": [
    "## Question 0"
   ]
  },
  {
   "cell_type": "markdown",
   "metadata": {},
   "source": [
    "### Netoyer les données"
   ]
  },
  {
   "cell_type": "code",
   "execution_count": 55,
   "metadata": {},
   "outputs": [],
   "source": [
    "df_ks['launched']= pd.to_datetime(df_ks['launched'], errors = 'coerce')\n",
    "df_ks = df_ks.dropna(subset = ['launched'])"
   ]
  },
  {
   "cell_type": "code",
   "execution_count": 56,
   "metadata": {},
   "outputs": [
    {
     "data": {
      "text/html": [
       "<div>\n",
       "<style scoped>\n",
       "    .dataframe tbody tr th:only-of-type {\n",
       "        vertical-align: middle;\n",
       "    }\n",
       "\n",
       "    .dataframe tbody tr th {\n",
       "        vertical-align: top;\n",
       "    }\n",
       "\n",
       "    .dataframe thead th {\n",
       "        text-align: right;\n",
       "    }\n",
       "</style>\n",
       "<table border=\"1\" class=\"dataframe\">\n",
       "  <thead>\n",
       "    <tr style=\"text-align: right;\">\n",
       "      <th></th>\n",
       "      <th>_id</th>\n",
       "      <th>name</th>\n",
       "      <th>category</th>\n",
       "      <th>main_category</th>\n",
       "      <th>currency</th>\n",
       "      <th>deadline</th>\n",
       "      <th>goal</th>\n",
       "      <th>launched</th>\n",
       "      <th>pledged</th>\n",
       "      <th>state</th>\n",
       "      <th>backers</th>\n",
       "      <th>country</th>\n",
       "      <th>usd pledged</th>\n",
       "      <th>usd_pledged_real</th>\n",
       "    </tr>\n",
       "  </thead>\n",
       "  <tbody>\n",
       "    <tr>\n",
       "      <th>0</th>\n",
       "      <td>872782264</td>\n",
       "      <td>Scott Cooper's Solo CD \"A Leg Trick\" (Canceled)</td>\n",
       "      <td>Rock</td>\n",
       "      <td>Music</td>\n",
       "      <td>USD</td>\n",
       "      <td>2011-09-16</td>\n",
       "      <td>2000</td>\n",
       "      <td>2011-08-17 06:31:31</td>\n",
       "      <td>1145</td>\n",
       "      <td>canceled</td>\n",
       "      <td>24</td>\n",
       "      <td>US</td>\n",
       "      <td>1145</td>\n",
       "      <td>1145.000000</td>\n",
       "    </tr>\n",
       "    <tr>\n",
       "      <th>1</th>\n",
       "      <td>1326492673</td>\n",
       "      <td>Ohceola jewelry</td>\n",
       "      <td>Fashion</td>\n",
       "      <td>Fashion</td>\n",
       "      <td>USD</td>\n",
       "      <td>2012-08-22</td>\n",
       "      <td>18000</td>\n",
       "      <td>2012-07-23 20:46:48</td>\n",
       "      <td>1851</td>\n",
       "      <td>failed</td>\n",
       "      <td>28</td>\n",
       "      <td>US</td>\n",
       "      <td>1851</td>\n",
       "      <td>1851.000000</td>\n",
       "    </tr>\n",
       "    <tr>\n",
       "      <th>2</th>\n",
       "      <td>1688410639</td>\n",
       "      <td>Sluff Off &amp; Harald: Two latest EGGs are Classi...</td>\n",
       "      <td>Tabletop Games</td>\n",
       "      <td>Games</td>\n",
       "      <td>USD</td>\n",
       "      <td>2016-07-19</td>\n",
       "      <td>2000</td>\n",
       "      <td>2016-07-01 21:55:54</td>\n",
       "      <td>7534</td>\n",
       "      <td>successful</td>\n",
       "      <td>254</td>\n",
       "      <td>US</td>\n",
       "      <td>3796</td>\n",
       "      <td>7534.000000</td>\n",
       "    </tr>\n",
       "    <tr>\n",
       "      <th>3</th>\n",
       "      <td>156812982</td>\n",
       "      <td>SketchPlanner: Create and Plan- all in one bea...</td>\n",
       "      <td>Art Books</td>\n",
       "      <td>Publishing</td>\n",
       "      <td>USD</td>\n",
       "      <td>2017-09-27</td>\n",
       "      <td>13000</td>\n",
       "      <td>2017-08-28 15:47:02</td>\n",
       "      <td>16298</td>\n",
       "      <td>successful</td>\n",
       "      <td>367</td>\n",
       "      <td>US</td>\n",
       "      <td>2670</td>\n",
       "      <td>16298.000000</td>\n",
       "    </tr>\n",
       "    <tr>\n",
       "      <th>4</th>\n",
       "      <td>1835968190</td>\n",
       "      <td>Proven sales with custom motorcycle accessories</td>\n",
       "      <td>Sculpture</td>\n",
       "      <td>Art</td>\n",
       "      <td>CAD</td>\n",
       "      <td>2016-02-24</td>\n",
       "      <td>5000</td>\n",
       "      <td>2016-01-25 17:37:10</td>\n",
       "      <td>1</td>\n",
       "      <td>failed</td>\n",
       "      <td>1</td>\n",
       "      <td>CA</td>\n",
       "      <td>0.708148</td>\n",
       "      <td>0.738225</td>\n",
       "    </tr>\n",
       "    <tr>\n",
       "      <th>...</th>\n",
       "      <td>...</td>\n",
       "      <td>...</td>\n",
       "      <td>...</td>\n",
       "      <td>...</td>\n",
       "      <td>...</td>\n",
       "      <td>...</td>\n",
       "      <td>...</td>\n",
       "      <td>...</td>\n",
       "      <td>...</td>\n",
       "      <td>...</td>\n",
       "      <td>...</td>\n",
       "      <td>...</td>\n",
       "      <td>...</td>\n",
       "      <td>...</td>\n",
       "    </tr>\n",
       "    <tr>\n",
       "      <th>149995</th>\n",
       "      <td>574841011</td>\n",
       "      <td>Scutes Headphones - A new way to listen to you...</td>\n",
       "      <td>Product Design</td>\n",
       "      <td>Design</td>\n",
       "      <td>USD</td>\n",
       "      <td>2014-11-14</td>\n",
       "      <td>40000</td>\n",
       "      <td>2014-10-14 20:44:37</td>\n",
       "      <td>3664</td>\n",
       "      <td>canceled</td>\n",
       "      <td>43</td>\n",
       "      <td>US</td>\n",
       "      <td>3664</td>\n",
       "      <td>3664.000000</td>\n",
       "    </tr>\n",
       "    <tr>\n",
       "      <th>149996</th>\n",
       "      <td>235190237</td>\n",
       "      <td>My Drunk @$$ Reviews</td>\n",
       "      <td>Webseries</td>\n",
       "      <td>Film &amp; Video</td>\n",
       "      <td>USD</td>\n",
       "      <td>2012-05-18</td>\n",
       "      <td>1000</td>\n",
       "      <td>2012-04-18 04:42:47</td>\n",
       "      <td>0</td>\n",
       "      <td>failed</td>\n",
       "      <td>0</td>\n",
       "      <td>US</td>\n",
       "      <td>0</td>\n",
       "      <td>0.000000</td>\n",
       "    </tr>\n",
       "    <tr>\n",
       "      <th>149997</th>\n",
       "      <td>758540498</td>\n",
       "      <td>Freedom Planet - High Speed Platform Game</td>\n",
       "      <td>Video Games</td>\n",
       "      <td>Games</td>\n",
       "      <td>USD</td>\n",
       "      <td>2013-02-15</td>\n",
       "      <td>2000</td>\n",
       "      <td>2013-01-16 00:53:32</td>\n",
       "      <td>25472.7</td>\n",
       "      <td>successful</td>\n",
       "      <td>1105</td>\n",
       "      <td>US</td>\n",
       "      <td>25472.7</td>\n",
       "      <td>25472.690000</td>\n",
       "    </tr>\n",
       "    <tr>\n",
       "      <th>149998</th>\n",
       "      <td>1624952469</td>\n",
       "      <td>Clown vs Mime</td>\n",
       "      <td>Webseries</td>\n",
       "      <td>Film &amp; Video</td>\n",
       "      <td>USD</td>\n",
       "      <td>2011-05-27</td>\n",
       "      <td>1000</td>\n",
       "      <td>2011-04-27 01:22:52</td>\n",
       "      <td>76</td>\n",
       "      <td>failed</td>\n",
       "      <td>3</td>\n",
       "      <td>US</td>\n",
       "      <td>76</td>\n",
       "      <td>76.000000</td>\n",
       "    </tr>\n",
       "    <tr>\n",
       "      <th>149999</th>\n",
       "      <td>891117261</td>\n",
       "      <td>Striker's Cafe &amp; Bakery</td>\n",
       "      <td>Food Trucks</td>\n",
       "      <td>Food</td>\n",
       "      <td>USD</td>\n",
       "      <td>2016-05-02</td>\n",
       "      <td>20000</td>\n",
       "      <td>2016-04-03 08:01:57</td>\n",
       "      <td>29</td>\n",
       "      <td>failed</td>\n",
       "      <td>3</td>\n",
       "      <td>US</td>\n",
       "      <td>29</td>\n",
       "      <td>29.000000</td>\n",
       "    </tr>\n",
       "  </tbody>\n",
       "</table>\n",
       "<p>149999 rows × 14 columns</p>\n",
       "</div>"
      ],
      "text/plain": [
       "               _id                                               name  \\\n",
       "0        872782264    Scott Cooper's Solo CD \"A Leg Trick\" (Canceled)   \n",
       "1       1326492673                                    Ohceola jewelry   \n",
       "2       1688410639  Sluff Off & Harald: Two latest EGGs are Classi...   \n",
       "3        156812982  SketchPlanner: Create and Plan- all in one bea...   \n",
       "4       1835968190    Proven sales with custom motorcycle accessories   \n",
       "...            ...                                                ...   \n",
       "149995   574841011  Scutes Headphones - A new way to listen to you...   \n",
       "149996   235190237                               My Drunk @$$ Reviews   \n",
       "149997   758540498          Freedom Planet - High Speed Platform Game   \n",
       "149998  1624952469                                      Clown vs Mime   \n",
       "149999   891117261                            Striker's Cafe & Bakery   \n",
       "\n",
       "              category main_category currency    deadline   goal  \\\n",
       "0                 Rock         Music      USD  2011-09-16   2000   \n",
       "1              Fashion       Fashion      USD  2012-08-22  18000   \n",
       "2       Tabletop Games         Games      USD  2016-07-19   2000   \n",
       "3            Art Books    Publishing      USD  2017-09-27  13000   \n",
       "4            Sculpture           Art      CAD  2016-02-24   5000   \n",
       "...                ...           ...      ...         ...    ...   \n",
       "149995  Product Design        Design      USD  2014-11-14  40000   \n",
       "149996       Webseries  Film & Video      USD  2012-05-18   1000   \n",
       "149997     Video Games         Games      USD  2013-02-15   2000   \n",
       "149998       Webseries  Film & Video      USD  2011-05-27   1000   \n",
       "149999     Food Trucks          Food      USD  2016-05-02  20000   \n",
       "\n",
       "                  launched  pledged       state backers country usd pledged  \\\n",
       "0      2011-08-17 06:31:31     1145    canceled      24      US        1145   \n",
       "1      2012-07-23 20:46:48     1851      failed      28      US        1851   \n",
       "2      2016-07-01 21:55:54     7534  successful     254      US        3796   \n",
       "3      2017-08-28 15:47:02    16298  successful     367      US        2670   \n",
       "4      2016-01-25 17:37:10        1      failed       1      CA    0.708148   \n",
       "...                    ...      ...         ...     ...     ...         ...   \n",
       "149995 2014-10-14 20:44:37     3664    canceled      43      US        3664   \n",
       "149996 2012-04-18 04:42:47        0      failed       0      US           0   \n",
       "149997 2013-01-16 00:53:32  25472.7  successful    1105      US     25472.7   \n",
       "149998 2011-04-27 01:22:52       76      failed       3      US          76   \n",
       "149999 2016-04-03 08:01:57       29      failed       3      US          29   \n",
       "\n",
       "        usd_pledged_real  \n",
       "0            1145.000000  \n",
       "1            1851.000000  \n",
       "2            7534.000000  \n",
       "3           16298.000000  \n",
       "4               0.738225  \n",
       "...                  ...  \n",
       "149995       3664.000000  \n",
       "149996          0.000000  \n",
       "149997      25472.690000  \n",
       "149998         76.000000  \n",
       "149999         29.000000  \n",
       "\n",
       "[149999 rows x 14 columns]"
      ]
     },
     "execution_count": 56,
     "metadata": {},
     "output_type": "execute_result"
    }
   ],
   "source": [
    "df_ks = df_ks.rename(columns = {\"ID\": \"_id\"})\n",
    "df_ks"
   ]
  },
  {
   "cell_type": "markdown",
   "metadata": {
    "slideshow": {
     "slide_type": "slide"
    }
   },
   "source": [
    "### Importer les données"
   ]
  },
  {
   "cell_type": "code",
   "execution_count": 57,
   "metadata": {},
   "outputs": [],
   "source": [
    "documents = df_ks.to_dict(orient = 'records')"
   ]
  },
  {
   "cell_type": "code",
   "execution_count": 58,
   "metadata": {},
   "outputs": [
    {
     "data": {
      "text/plain": [
       "<pymongo.results.InsertManyResult at 0x7f4bc7882c00>"
      ]
     },
     "execution_count": 58,
     "metadata": {},
     "output_type": "execute_result"
    }
   ],
   "source": [
    "collection.insert_many(documents)"
   ]
  },
  {
   "cell_type": "code",
   "execution_count": 59,
   "metadata": {},
   "outputs": [
    {
     "data": {
      "text/plain": [
       "{'_id': 872782264,\n",
       " 'name': 'Scott Cooper\\'s Solo CD \"A Leg Trick\" (Canceled)',\n",
       " 'category': 'Rock',\n",
       " 'main_category': 'Music',\n",
       " 'currency': 'USD',\n",
       " 'deadline': '2011-09-16',\n",
       " 'goal': 2000.0,\n",
       " 'launched': datetime.datetime(2011, 8, 17, 6, 31, 31),\n",
       " 'pledged': 1145.0,\n",
       " 'state': 'canceled',\n",
       " 'backers': 24,\n",
       " 'country': 'US',\n",
       " 'usd pledged': 1145.0,\n",
       " 'usd_pledged_real': 1145.0}"
      ]
     },
     "execution_count": 59,
     "metadata": {},
     "output_type": "execute_result"
    }
   ],
   "source": [
    "collection.find_one({})"
   ]
  },
  {
   "cell_type": "markdown",
   "metadata": {},
   "source": [
    "## Question 1  "
   ]
  },
  {
   "cell_type": "code",
   "execution_count": 60,
   "metadata": {
    "scrolled": true
   },
   "outputs": [
    {
     "data": {
      "text/plain": [
       "[{'_id': 342886736,\n",
       "  'name': \"COOLEST COOLER: 21st Century Cooler that's Actually Cooler\",\n",
       "  'category': 'Product Design',\n",
       "  'main_category': 'Design',\n",
       "  'currency': 'USD',\n",
       "  'deadline': '2014-08-30',\n",
       "  'goal': '50000.0',\n",
       "  'launched': datetime.datetime(2014, 7, 8, 10, 14, 37),\n",
       "  'pledged': '13285226.36',\n",
       "  'state': 'successful',\n",
       "  'backers': '62642',\n",
       "  'country': 'US',\n",
       "  'usd pledged': '13285226.36',\n",
       "  'usd_pledged_real': 13285226.36},\n",
       " {'_id': 2103598555,\n",
       "  'name': 'Pebble 2, Time 2 + All-New Pebble Core',\n",
       "  'category': 'Product Design',\n",
       "  'main_category': 'Design',\n",
       "  'currency': 'USD',\n",
       "  'deadline': '2016-06-30',\n",
       "  'goal': '1000000.0',\n",
       "  'launched': datetime.datetime(2016, 5, 24, 15, 49, 52),\n",
       "  'pledged': '12779843.49',\n",
       "  'state': 'successful',\n",
       "  'backers': '66673',\n",
       "  'country': 'US',\n",
       "  'usd pledged': '12779843.49',\n",
       "  'usd_pledged_real': 12779843.49},\n",
       " {'_id': 1033978702,\n",
       "  'name': 'OUYA: A New Kind of Video Game Console',\n",
       "  'category': 'Gaming Hardware',\n",
       "  'main_category': 'Games',\n",
       "  'currency': 'USD',\n",
       "  'deadline': '2012-08-09',\n",
       "  'goal': '950000.0',\n",
       "  'launched': datetime.datetime(2012, 7, 10, 14, 44, 41),\n",
       "  'pledged': '8596474.58',\n",
       "  'state': 'successful',\n",
       "  'backers': '63416',\n",
       "  'country': 'US',\n",
       "  'usd pledged': '8596474.58',\n",
       "  'usd_pledged_real': 8596474.58},\n",
       " {'_id': 450099426,\n",
       "  'name': 'The Everyday Backpack, Tote, and Sling',\n",
       "  'category': 'Product Design',\n",
       "  'main_category': 'Design',\n",
       "  'currency': 'USD',\n",
       "  'deadline': '2016-09-10',\n",
       "  'goal': 500000.0,\n",
       "  'launched': datetime.datetime(2016, 7, 13, 0, 47, 35),\n",
       "  'pledged': 6565782.5,\n",
       "  'state': 'successful',\n",
       "  'backers': 26359,\n",
       "  'country': 'US',\n",
       "  'usd pledged': 1462611.0,\n",
       "  'usd_pledged_real': 6565782.5},\n",
       " {'_id': 1386523707,\n",
       "  'name': 'Fidget Cube: A Vinyl Desk Toy',\n",
       "  'category': 'Product Design',\n",
       "  'main_category': 'Design',\n",
       "  'currency': 'USD',\n",
       "  'deadline': '2016-10-20',\n",
       "  'goal': '15000.0',\n",
       "  'launched': datetime.datetime(2016, 8, 30, 22, 2, 9),\n",
       "  'pledged': '6465690.3',\n",
       "  'state': 'successful',\n",
       "  'backers': '154926',\n",
       "  'country': 'US',\n",
       "  'usd pledged': '13770.0',\n",
       "  'usd_pledged_real': 6465690.3}]"
      ]
     },
     "execution_count": 60,
     "metadata": {},
     "output_type": "execute_result"
    }
   ],
   "source": [
    "dons = collection.find().sort([(\"usd_pledged_real\", -1)]).limit(5)\n",
    "list(dons)"
   ]
  },
  {
   "cell_type": "markdown",
   "metadata": {},
   "source": [
    "## Question 2"
   ]
  },
  {
   "cell_type": "code",
   "execution_count": 61,
   "metadata": {},
   "outputs": [
    {
     "name": "stdout",
     "output_type": "stream",
     "text": [
      "Le nombre de projets ayant atteint leur but est: 53040\n"
     ]
    }
   ],
   "source": [
    "but = collection.count_documents({'state' : 'successful'})\n",
    "print(\"Le nombre de projets ayant atteint leur but est:\", but)"
   ]
  },
  {
   "cell_type": "markdown",
   "metadata": {},
   "source": [
    "## Question 3"
   ]
  },
  {
   "cell_type": "code",
   "execution_count": 62,
   "metadata": {},
   "outputs": [
    {
     "data": {
      "text/plain": [
       "[{'_id': 'Woodworking', 'somme': 433},\n",
       " {'_id': 'Video Art', 'somme': 65},\n",
       " {'_id': 'Theater', 'somme': 2786},\n",
       " {'_id': 'Stationery', 'somme': 90},\n",
       " {'_id': 'Sculpture', 'somme': 737},\n",
       " {'_id': 'Classical Music', 'somme': 1064},\n",
       " {'_id': 'Publishing', 'somme': 2332},\n",
       " {'_id': 'Childrenswear', 'somme': 192},\n",
       " {'_id': 'Movie Theaters', 'somme': 90},\n",
       " {'_id': 'Residencies', 'somme': 32},\n",
       " {'_id': 'Horror', 'somme': 525},\n",
       " {'_id': 'Rock', 'somme': 2707},\n",
       " {'_id': 'Art', 'somme': 3358},\n",
       " {'_id': 'Photography', 'somme': 2239},\n",
       " {'_id': 'Camera Equipment', 'somme': 165},\n",
       " {'_id': 'Flight', 'somme': 158},\n",
       " {'_id': 'Journalism', 'somme': 672},\n",
       " {'_id': 'Puzzles', 'somme': 95},\n",
       " {'_id': 'Webseries', 'somme': 2316},\n",
       " {'_id': 'Makerspaces', 'somme': 91},\n",
       " {'_id': 'Metal', 'somme': 274},\n",
       " {'_id': 'Digital Art', 'somme': 524},\n",
       " {'_id': 'Knitting', 'somme': 78},\n",
       " {'_id': 'Academic', 'somme': 367},\n",
       " {'_id': 'Music Videos', 'somme': 299},\n",
       " {'_id': 'Wearables', 'somme': 508},\n",
       " {'_id': 'Places', 'somme': 283},\n",
       " {'_id': 'Glass', 'somme': 51},\n",
       " {'_id': 'Gadgets', 'somme': 1210},\n",
       " {'_id': 'Fine Art', 'somme': 291},\n",
       " {'_id': 'Spaces', 'somme': 331},\n",
       " {'_id': 'Space Exploration', 'somme': 137},\n",
       " {'_id': 'Crafts', 'somme': 1834},\n",
       " {'_id': 'Robots', 'somme': 237},\n",
       " {'_id': 'Installations', 'somme': 178},\n",
       " {'_id': 'Calendars', 'somme': 112},\n",
       " {'_id': 'Fabrication Tools', 'somme': 96},\n",
       " {'_id': 'Hip-Hop', 'somme': 1555},\n",
       " {'_id': 'Zines', 'somme': 144},\n",
       " {'_id': 'Typography', 'somme': 44},\n",
       " {'_id': 'Technology', 'somme': 2690},\n",
       " {'_id': 'Sound', 'somme': 255},\n",
       " {'_id': 'Video Games', 'somme': 4799},\n",
       " {'_id': 'Photo', 'somme': 58},\n",
       " {'_id': 'DIY', 'somme': 480},\n",
       " {'_id': 'Documentary', 'somme': 6498},\n",
       " {'_id': 'Cookbooks', 'somme': 217},\n",
       " {'_id': 'Illustration', 'somme': 1263},\n",
       " {'_id': 'Small Batch', 'somme': 701},\n",
       " {'_id': 'Dance', 'somme': 901},\n",
       " {'_id': 'Immersive', 'somme': 131},\n",
       " {'_id': 'Farms', 'somme': 482},\n",
       " {'_id': 'Ready-to-wear', 'somme': 332},\n",
       " {'_id': 'Pop', 'somme': 1302},\n",
       " {'_id': 'Games', 'somme': 1331},\n",
       " {'_id': 'Comedy', 'somme': 923},\n",
       " {'_id': 'Animation', 'somme': 1017},\n",
       " {'_id': 'Apparel', 'somme': 2827},\n",
       " {'_id': 'Vegan', 'somme': 229},\n",
       " {'_id': 'Print', 'somme': 288},\n",
       " {'_id': 'Electronic Music', 'somme': 858},\n",
       " {'_id': 'Musical', 'somme': 367},\n",
       " {'_id': 'People', 'somme': 440},\n",
       " {'_id': 'Workshops', 'somme': 59},\n",
       " {'_id': 'Ceramics', 'somme': 128},\n",
       " {'_id': 'Comic Books', 'somme': 1032},\n",
       " {'_id': 'Pet Fashion', 'somme': 51},\n",
       " {'_id': 'Faith', 'somme': 439},\n",
       " {'_id': 'Young Adult', 'somme': 328},\n",
       " {'_id': 'Fashion', 'somme': 3379},\n",
       " {'_id': 'Experimental', 'somme': 357},\n",
       " {'_id': 'Nonfiction', 'somme': 3390},\n",
       " {'_id': 'Apps', 'somme': 2535},\n",
       " {'_id': 'Accessories', 'somme': 1204},\n",
       " {'_id': 'Hardware', 'somme': 1431},\n",
       " {'_id': 'R&B', 'somme': 172},\n",
       " {'_id': 'Product Design', 'somme': 8886},\n",
       " {'_id': 'Webcomics', 'somme': 259},\n",
       " {'_id': 'Drama', 'somme': 871},\n",
       " {'_id': 'Literary Journals', 'somme': 118},\n",
       " {'_id': 'Embroidery', 'somme': 49},\n",
       " {'_id': 'Music', 'somme': 6229},\n",
       " {'_id': 'Printing', 'somme': 83},\n",
       " {'_id': 'Narrative Film', 'somme': 2099},\n",
       " {'_id': '3D Printing', 'somme': 271},\n",
       " {'_id': 'Jewelry', 'somme': 472},\n",
       " {'_id': 'Food Trucks', 'somme': 687},\n",
       " {'_id': 'Chiptune', 'somme': 10},\n",
       " {'_id': 'Art Books', 'somme': 1065},\n",
       " {'_id': 'Web', 'somme': 2017},\n",
       " {'_id': 'Shorts', 'somme': 4857},\n",
       " {'_id': 'Photobooks', 'somme': 608},\n",
       " {'_id': 'Mixed Media', 'somme': 1118},\n",
       " {'_id': 'Candles', 'somme': 168},\n",
       " {'_id': 'Animals', 'somme': 97},\n",
       " {'_id': 'Gaming Hardware', 'somme': 178},\n",
       " {'_id': 'Video', 'somme': 147},\n",
       " {'_id': 'Indie Rock', 'somme': 2192},\n",
       " {'_id': 'Textiles', 'somme': 105},\n",
       " {'_id': 'Radio & Podcasts', 'somme': 349},\n",
       " {'_id': 'Performances', 'somme': 414},\n",
       " {'_id': 'Poetry', 'somme': 532},\n",
       " {'_id': 'Architecture', 'somme': 300},\n",
       " {'_id': 'Romance', 'somme': 74},\n",
       " {'_id': 'Audio', 'somme': 164},\n",
       " {'_id': 'Graphic Design', 'somme': 765},\n",
       " {'_id': 'Events', 'somme': 322},\n",
       " {'_id': 'Community Gardens', 'somme': 115},\n",
       " {'_id': 'Thrillers', 'somme': 302},\n",
       " {'_id': 'Periodicals', 'somme': 517},\n",
       " {'_id': \"Farmer's Markets\", 'somme': 175},\n",
       " {'_id': 'DIY Electronics', 'somme': 358},\n",
       " {'_id': 'Punk', 'somme': 127},\n",
       " {'_id': 'Comics', 'somme': 1931},\n",
       " {'_id': 'Quilts', 'somme': 32},\n",
       " {'_id': 'Public Art', 'somme': 1248},\n",
       " {'_id': 'World Music', 'somme': 850},\n",
       " {'_id': 'Plays', 'somme': 539},\n",
       " {'_id': 'Food', 'somme': 4612},\n",
       " {'_id': 'Translations', 'somme': 76},\n",
       " {'_id': 'Festivals', 'somme': 313},\n",
       " {'_id': 'Couture', 'somme': 108},\n",
       " {'_id': 'Television', 'somme': 401},\n",
       " {'_id': 'Blues', 'somme': 113},\n",
       " {'_id': 'Taxidermy', 'somme': 7},\n",
       " {'_id': 'Bacon', 'somme': 78},\n",
       " {'_id': 'Design', 'somme': 1641},\n",
       " {'_id': 'Latin', 'somme': 63},\n",
       " {'_id': 'Mobile Games', 'somme': 650},\n",
       " {'_id': 'Country & Folk', 'somme': 1790},\n",
       " {'_id': 'Painting', 'somme': 1288},\n",
       " {'_id': 'Playing Cards', 'somme': 963},\n",
       " {'_id': 'Kids', 'somme': 109},\n",
       " {'_id': \"Children's Books\", 'somme': 2686},\n",
       " {'_id': 'Action', 'somme': 282},\n",
       " {'_id': 'Science Fiction', 'somme': 274},\n",
       " {'_id': 'Interactive Design', 'somme': 146},\n",
       " {'_id': 'Letterpress', 'somme': 24},\n",
       " {'_id': 'Software', 'somme': 1194},\n",
       " {'_id': 'Drinks', 'somme': 995},\n",
       " {'_id': 'Film & Video', 'somme': 4003},\n",
       " {'_id': 'Fiction', 'somme': 3703},\n",
       " {'_id': 'Nature', 'somme': 219},\n",
       " {'_id': 'Fantasy', 'somme': 132},\n",
       " {'_id': 'Civic Design', 'somme': 130},\n",
       " {'_id': 'Anthologies', 'somme': 300},\n",
       " {'_id': 'Performance Art', 'somme': 855},\n",
       " {'_id': 'Jazz', 'somme': 733},\n",
       " {'_id': 'Footwear', 'somme': 379},\n",
       " {'_id': 'Family', 'somme': 130},\n",
       " {'_id': 'Weaving', 'somme': 38},\n",
       " {'_id': 'Pottery', 'somme': 40},\n",
       " {'_id': 'Graphic Novels', 'somme': 702},\n",
       " {'_id': 'Restaurants', 'somme': 1089},\n",
       " {'_id': 'Conceptual Art', 'somme': 393},\n",
       " {'_id': 'Tabletop Games', 'somme': 5581},\n",
       " {'_id': 'Live Games', 'somme': 394},\n",
       " {'_id': 'Crochet', 'somme': 61},\n",
       " {'_id': 'Literary Spaces', 'somme': 10}]"
      ]
     },
     "execution_count": 62,
     "metadata": {},
     "output_type": "execute_result"
    }
   ],
   "source": [
    "projet_categ = collection.aggregate([{\"$group\" : {\"_id\" : \"$category\", \"somme\" : {\"$sum\" : 1}}}])\n",
    "list(projet_categ)"
   ]
  },
  {
   "cell_type": "markdown",
   "metadata": {},
   "source": [
    "## Question 4"
   ]
  },
  {
   "cell_type": "code",
   "execution_count": 63,
   "metadata": {},
   "outputs": [],
   "source": [
    "import datetime\n",
    "year = datetime.datetime.strptime(\"2016-01-01\",'%Y-%m-%d')"
   ]
  },
  {
   "cell_type": "code",
   "execution_count": 64,
   "metadata": {},
   "outputs": [
    {
     "name": "stdout",
     "output_type": "stream",
     "text": [
      "Le nombre de projets francais ayant été instanciés avant 2016 est de : 330\n"
     ]
    }
   ],
   "source": [
    "projet_categ = {\"$and\": [{\"country\":\"FR\", \"launched\":{\"$lte\": year}}]}\n",
    "a = collection.count_documents(projet_categ)\n",
    "print(\"Le nombre de projets francais ayant été instanciés avant 2016 est de :\", a)"
   ]
  },
  {
   "cell_type": "markdown",
   "metadata": {},
   "source": [
    "## Question 5"
   ]
  },
  {
   "cell_type": "code",
   "execution_count": 65,
   "metadata": {},
   "outputs": [
    {
     "name": "stdout",
     "output_type": "stream",
     "text": [
      "Le nombre de projets américains ayant demandé plus de 200 000 dollars : 658\n"
     ]
    }
   ],
   "source": [
    "projet_200 = {\"$and\": [{\"country\":\"US\", \"usd_pledged_real\":{\"$gte\": 200000}}]}\n",
    "b = collection.count_documents(projet_200)\n",
    "print(\"Le nombre de projets américains ayant demandé plus de 200 000 dollars :\", b)"
   ]
  },
  {
   "cell_type": "markdown",
   "metadata": {},
   "source": [
    "## Question 6 "
   ]
  },
  {
   "cell_type": "code",
   "execution_count": 66,
   "metadata": {},
   "outputs": [
    {
     "name": "stdout",
     "output_type": "stream",
     "text": [
      "Le nombre de projet ayant Sport dans leur nom : 318\n"
     ]
    }
   ],
   "source": [
    "collection.create_index([(\"name\", \"text\")])\n",
    "c = collection.count_documents( { \"$text\": { \"$search\": \"Sport\" }})\n",
    "print(\"Le nombre de projet ayant Sport dans leur nom :\", c)"
   ]
  },
  {
   "cell_type": "code",
   "execution_count": null,
   "metadata": {},
   "outputs": [],
   "source": []
  }
 ],
 "metadata": {
  "kernelspec": {
   "display_name": "Python 3",
   "language": "python",
   "name": "python3"
  },
  "language_info": {
   "codemirror_mode": {
    "name": "ipython",
    "version": 3
   },
   "file_extension": ".py",
   "mimetype": "text/x-python",
   "name": "python",
   "nbconvert_exporter": "python",
   "pygments_lexer": "ipython3",
   "version": "3.8.6"
  }
 },
 "nbformat": 4,
 "nbformat_minor": 2
}
