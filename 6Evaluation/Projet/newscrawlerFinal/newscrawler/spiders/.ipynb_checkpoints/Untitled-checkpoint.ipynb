{
 "cells": [
  {
   "cell_type": "code",
   "execution_count": 3,
   "metadata": {},
   "outputs": [],
   "source": [
    "import pandas as pd"
   ]
  },
  {
   "cell_type": "code",
   "execution_count": 4,
   "metadata": {},
   "outputs": [],
   "source": [
    "expedia = pd.read_csv(\"expedia.csv\")"
   ]
  },
  {
   "cell_type": "code",
   "execution_count": 5,
   "metadata": {},
   "outputs": [
    {
     "data": {
      "text/html": [
       "<div>\n",
       "<style scoped>\n",
       "    .dataframe tbody tr th:only-of-type {\n",
       "        vertical-align: middle;\n",
       "    }\n",
       "\n",
       "    .dataframe tbody tr th {\n",
       "        vertical-align: top;\n",
       "    }\n",
       "\n",
       "    .dataframe thead th {\n",
       "        text-align: right;\n",
       "    }\n",
       "</style>\n",
       "<table border=\"1\" class=\"dataframe\">\n",
       "  <thead>\n",
       "    <tr style=\"text-align: right;\">\n",
       "      <th></th>\n",
       "      <th>id</th>\n",
       "      <th>title</th>\n",
       "      <th>dateArrive</th>\n",
       "      <th>dateDepart</th>\n",
       "      <th>localisation</th>\n",
       "      <th>prix</th>\n",
       "      <th>avis</th>\n",
       "      <th>nombreNuits</th>\n",
       "      <th>images</th>\n",
       "    </tr>\n",
       "  </thead>\n",
       "  <tbody>\n",
       "    <tr>\n",
       "      <th>0</th>\n",
       "      <td>New York (et environs), New York, États-Unis d...</td>\n",
       "      <td>The Langham, New York, Fifth Avenue</td>\n",
       "      <td>2021-02-14</td>\n",
       "      <td>2021-02-08</td>\n",
       "      <td>Midtown East</td>\n",
       "      <td>1 902 €</td>\n",
       "      <td>4,7 sur 5 Exceptionnel (1 003 avis)</td>\n",
       "      <td>pour 6 nuits</td>\n",
       "      <td>,https://images.trvl-media.com/hotels/4000000/...</td>\n",
       "    </tr>\n",
       "    <tr>\n",
       "      <th>1</th>\n",
       "      <td>New York (et environs), New York, États-Unis d...</td>\n",
       "      <td>1 Hotel Central Park</td>\n",
       "      <td>2021-02-14</td>\n",
       "      <td>2021-02-08</td>\n",
       "      <td>Centre-ville de New York City</td>\n",
       "      <td>1 607 €</td>\n",
       "      <td>4,6 sur 5 Merveilleux (1 014 avis)</td>\n",
       "      <td>pour 6 nuits</td>\n",
       "      <td>,https://images.trvl-media.com/hotels/10000000...</td>\n",
       "    </tr>\n",
       "    <tr>\n",
       "      <th>2</th>\n",
       "      <td>New York (et environs), New York, États-Unis d...</td>\n",
       "      <td>Baccarat Hotel and Residences New York</td>\n",
       "      <td>2021-02-14</td>\n",
       "      <td>2021-02-08</td>\n",
       "      <td>Centre-ville de New York City</td>\n",
       "      <td>2 724 €</td>\n",
       "      <td>4,6 sur 5 Merveilleux (225 avis)</td>\n",
       "      <td>pour 6 nuits</td>\n",
       "      <td>,https://images.trvl-media.com/hotels/10000000...</td>\n",
       "    </tr>\n",
       "    <tr>\n",
       "      <th>3</th>\n",
       "      <td>New York (et environs), New York, États-Unis d...</td>\n",
       "      <td>The Beekman, A Thompson Hotel</td>\n",
       "      <td>2021-02-14</td>\n",
       "      <td>2021-02-08</td>\n",
       "      <td>New York</td>\n",
       "      <td>1 402 €</td>\n",
       "      <td>4,6 sur 5 Merveilleux (724 avis)</td>\n",
       "      <td>pour 6 nuits</td>\n",
       "      <td>NaN</td>\n",
       "    </tr>\n",
       "    <tr>\n",
       "      <th>4</th>\n",
       "      <td>New York (et environs), New York, États-Unis d...</td>\n",
       "      <td>The Pierre, A Taj Hotel, New York</td>\n",
       "      <td>2021-02-14</td>\n",
       "      <td>2021-02-08</td>\n",
       "      <td>Lenox Hill</td>\n",
       "      <td>2 673 €</td>\n",
       "      <td>4,7 sur 5 Exceptionnel (985 avis)</td>\n",
       "      <td>pour 6 nuits</td>\n",
       "      <td>NaN</td>\n",
       "    </tr>\n",
       "  </tbody>\n",
       "</table>\n",
       "</div>"
      ],
      "text/plain": [
       "                                                  id  \\\n",
       "0  New York (et environs), New York, États-Unis d...   \n",
       "1  New York (et environs), New York, États-Unis d...   \n",
       "2  New York (et environs), New York, États-Unis d...   \n",
       "3  New York (et environs), New York, États-Unis d...   \n",
       "4  New York (et environs), New York, États-Unis d...   \n",
       "\n",
       "                                    title  dateArrive  dateDepart  \\\n",
       "0     The Langham, New York, Fifth Avenue  2021-02-14  2021-02-08   \n",
       "1                    1 Hotel Central Park  2021-02-14  2021-02-08   \n",
       "2  Baccarat Hotel and Residences New York  2021-02-14  2021-02-08   \n",
       "3           The Beekman, A Thompson Hotel  2021-02-14  2021-02-08   \n",
       "4       The Pierre, A Taj Hotel, New York  2021-02-14  2021-02-08   \n",
       "\n",
       "                    localisation     prix  \\\n",
       "0                   Midtown East  1 902 €   \n",
       "1  Centre-ville de New York City  1 607 €   \n",
       "2  Centre-ville de New York City  2 724 €   \n",
       "3                       New York  1 402 €   \n",
       "4                     Lenox Hill  2 673 €   \n",
       "\n",
       "                                  avis   nombreNuits  \\\n",
       "0  4,7 sur 5 Exceptionnel (1 003 avis)  pour 6 nuits   \n",
       "1   4,6 sur 5 Merveilleux (1 014 avis)  pour 6 nuits   \n",
       "2     4,6 sur 5 Merveilleux (225 avis)  pour 6 nuits   \n",
       "3     4,6 sur 5 Merveilleux (724 avis)  pour 6 nuits   \n",
       "4    4,7 sur 5 Exceptionnel (985 avis)  pour 6 nuits   \n",
       "\n",
       "                                              images  \n",
       "0  ,https://images.trvl-media.com/hotels/4000000/...  \n",
       "1  ,https://images.trvl-media.com/hotels/10000000...  \n",
       "2  ,https://images.trvl-media.com/hotels/10000000...  \n",
       "3                                                NaN  \n",
       "4                                                NaN  "
      ]
     },
     "execution_count": 5,
     "metadata": {},
     "output_type": "execute_result"
    }
   ],
   "source": [
    "expedia.head()"
   ]
  },
  {
   "cell_type": "code",
   "execution_count": 7,
   "metadata": {},
   "outputs": [
    {
     "data": {
      "text/plain": [
       "0    New York (et environs), New York, États-Unis d...\n",
       "1    New York (et environs), New York, États-Unis d...\n",
       "2    New York (et environs), New York, États-Unis d...\n",
       "3    New York (et environs), New York, États-Unis d...\n",
       "4    New York (et environs), New York, États-Unis d...\n",
       "5    New York (et environs), New York, États-Unis d...\n",
       "Name: id, dtype: object"
      ]
     },
     "execution_count": 7,
     "metadata": {},
     "output_type": "execute_result"
    }
   ],
   "source": [
    "expedia.id[0:6]"
   ]
  },
  {
   "cell_type": "code",
   "execution_count": null,
   "metadata": {},
   "outputs": [],
   "source": []
  }
 ],
 "metadata": {
  "kernelspec": {
   "display_name": "Python 3",
   "language": "python",
   "name": "python3"
  },
  "language_info": {
   "codemirror_mode": {
    "name": "ipython",
    "version": 3
   },
   "file_extension": ".py",
   "mimetype": "text/x-python",
   "name": "python",
   "nbconvert_exporter": "python",
   "pygments_lexer": "ipython3",
   "version": "3.8.3"
  }
 },
 "nbformat": 4,
 "nbformat_minor": 4
}
